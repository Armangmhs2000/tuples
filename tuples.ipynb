{
 "cells": [
  {
   "cell_type": "code",
   "execution_count": 1,
   "id": "18f3915d-5090-4266-80c0-4c5a44bb0a7a",
   "metadata": {},
   "outputs": [],
   "source": [
    "#tuples is similar to list and elements of tuples can't be changed\n",
    "t=(1,2,'aru',(5,6),[7,8])\n",
    "#tuples use for heterogeneous data types and list for homogeneous;it can be used as "
   ]
  },
  {
   "cell_type": "code",
   "execution_count": 2,
   "id": "c239d4f2-c3b4-40b1-b3a6-8a5062243e1f",
   "metadata": {},
   "outputs": [
    {
     "data": {
      "text/plain": [
       "(2, 'aru', (5, 6))"
      ]
     },
     "execution_count": 2,
     "metadata": {},
     "output_type": "execute_result"
    }
   ],
   "source": [
    "t[1:4]#to see index 1,2,3 elements"
   ]
  },
  {
   "cell_type": "code",
   "execution_count": 3,
   "id": "87769abd-6c7c-4597-a415-2ed4e0d8c9b6",
   "metadata": {},
   "outputs": [],
   "source": [
    "l=list(t)#tuples to list generation"
   ]
  },
  {
   "cell_type": "code",
   "execution_count": 4,
   "id": "b5811d2b-b0d2-426a-a451-19a8efdc5a5e",
   "metadata": {},
   "outputs": [
    {
     "data": {
      "text/plain": [
       "[1, 2, 'aru', (5, 6), [7, 8]]"
      ]
     },
     "execution_count": 4,
     "metadata": {},
     "output_type": "execute_result"
    }
   ],
   "source": [
    "l#now we can easily apply every function for list like insert,append,sort etc"
   ]
  },
  {
   "cell_type": "code",
   "execution_count": 5,
   "id": "921cd992-31a5-450e-8cde-23a262c6a93d",
   "metadata": {},
   "outputs": [],
   "source": [
    "l.append(4)"
   ]
  },
  {
   "cell_type": "code",
   "execution_count": 6,
   "id": "d595f972-daf1-4791-9ab6-e9131e0c4e96",
   "metadata": {},
   "outputs": [
    {
     "data": {
      "text/plain": [
       "[1, 2, 'aru', (5, 6), [7, 8], 4]"
      ]
     },
     "execution_count": 6,
     "metadata": {},
     "output_type": "execute_result"
    }
   ],
   "source": [
    "l"
   ]
  },
  {
   "cell_type": "code",
   "execution_count": 7,
   "id": "d460614a-ef5d-4cae-ab49-e3b7999a875c",
   "metadata": {},
   "outputs": [],
   "source": [
    "t1=tuple(l)#list to tuple generation "
   ]
  },
  {
   "cell_type": "code",
   "execution_count": 8,
   "id": "0dae8464-0be1-47ad-81d1-426779b049e4",
   "metadata": {},
   "outputs": [
    {
     "data": {
      "text/plain": [
       "(1, 2, 'aru', (5, 6), [7, 8], 4)"
      ]
     },
     "execution_count": 8,
     "metadata": {},
     "output_type": "execute_result"
    }
   ],
   "source": [
    "t1"
   ]
  },
  {
   "cell_type": "code",
   "execution_count": 9,
   "id": "eeacf577-60cc-4a8e-af43-e220802f9295",
   "metadata": {},
   "outputs": [],
   "source": [
    "t2='aru'"
   ]
  },
  {
   "cell_type": "code",
   "execution_count": 10,
   "id": "eed9c428-ba0b-4bf6-b7ad-5a80b72dd5a1",
   "metadata": {},
   "outputs": [
    {
     "data": {
      "text/plain": [
       "str"
      ]
     },
     "execution_count": 10,
     "metadata": {},
     "output_type": "execute_result"
    }
   ],
   "source": [
    "type(t2)\n"
   ]
  },
  {
   "cell_type": "code",
   "execution_count": 11,
   "id": "f612bdb9-efe7-453a-877d-98b3b822ec72",
   "metadata": {},
   "outputs": [],
   "source": [
    "t3='aru',#called tuple only for comma"
   ]
  },
  {
   "cell_type": "code",
   "execution_count": 12,
   "id": "fbe82445-de9c-47a3-939f-6cad240b81a3",
   "metadata": {},
   "outputs": [
    {
     "data": {
      "text/plain": [
       "tuple"
      ]
     },
     "execution_count": 12,
     "metadata": {},
     "output_type": "execute_result"
    }
   ],
   "source": [
    "type(t3)"
   ]
  },
  {
   "cell_type": "code",
   "execution_count": 13,
   "id": "9fb524f1-a1e8-4ff5-ad7f-7dfbe48dcb82",
   "metadata": {},
   "outputs": [
    {
     "data": {
      "text/plain": [
       "(1, 2, 'aru', (5, 6), [7, 8], 4, 'aru')"
      ]
     },
     "execution_count": 13,
     "metadata": {},
     "output_type": "execute_result"
    }
   ],
   "source": [
    "t1+t3#merge tuple"
   ]
  },
  {
   "cell_type": "code",
   "execution_count": 14,
   "id": "daddda5b-5a0c-4e35-acd4-1c20ba215c38",
   "metadata": {},
   "outputs": [
    {
     "data": {
      "text/plain": [
       "(1, 2, 'aru', (5, 6), [7, 8], 4, 1, 2, 'aru', (5, 6), [7, 8], 4)"
      ]
     },
     "execution_count": 14,
     "metadata": {},
     "output_type": "execute_result"
    }
   ],
   "source": [
    "t1*2#t1 will be seen two times"
   ]
  },
  {
   "cell_type": "code",
   "execution_count": 15,
   "id": "c8cb82cf-91ab-4878-8dca-4f853c0590bc",
   "metadata": {},
   "outputs": [],
   "source": [
    "t1=t1*2"
   ]
  },
  {
   "cell_type": "code",
   "execution_count": 16,
   "id": "53a22461-644c-4d05-a39c-eb7e251399ef",
   "metadata": {},
   "outputs": [
    {
     "data": {
      "text/plain": [
       "(1, 2, 'aru', (5, 6), [7, 8], 4, 1, 2, 'aru', (5, 6), [7, 8], 4)"
      ]
     },
     "execution_count": 16,
     "metadata": {},
     "output_type": "execute_result"
    }
   ],
   "source": [
    "t1"
   ]
  },
  {
   "cell_type": "code",
   "execution_count": 17,
   "id": "a96dcd05-f22b-4c24-9331-3c600afa737e",
   "metadata": {},
   "outputs": [
    {
     "data": {
      "text/plain": [
       "2"
      ]
     },
     "execution_count": 17,
     "metadata": {},
     "output_type": "execute_result"
    }
   ],
   "source": [
    "t1.count(2)#the element 2 is available two times"
   ]
  },
  {
   "cell_type": "code",
   "execution_count": 18,
   "id": "b35c0feb-e6a6-43ce-8617-11c955b19b02",
   "metadata": {},
   "outputs": [
    {
     "data": {
      "text/plain": [
       "True"
      ]
     },
     "execution_count": 18,
     "metadata": {},
     "output_type": "execute_result"
    }
   ],
   "source": [
    "'aru' in t1"
   ]
  },
  {
   "cell_type": "code",
   "execution_count": 19,
   "id": "5030510f-23e7-4773-820d-d47429e2823e",
   "metadata": {},
   "outputs": [
    {
     "data": {
      "text/plain": [
       "False"
      ]
     },
     "execution_count": 19,
     "metadata": {},
     "output_type": "execute_result"
    }
   ],
   "source": [
    "'aruu' in t1"
   ]
  },
  {
   "cell_type": "code",
   "execution_count": 20,
   "id": "d907fe15-e985-4ec4-abce-fee9c665216f",
   "metadata": {},
   "outputs": [
    {
     "name": "stdout",
     "output_type": "stream",
     "text": [
      "1\n",
      "2\n",
      "aru\n",
      "(5, 6)\n",
      "[7, 8]\n",
      "4\n",
      "1\n",
      "2\n",
      "aru\n",
      "(5, 6)\n",
      "[7, 8]\n",
      "4\n"
     ]
    }
   ],
   "source": [
    "for i in t1:\n",
    "    print(i)\n",
    "#to see all elements "
   ]
  },
  {
   "cell_type": "code",
   "execution_count": 21,
   "id": "37e6e3c1-b320-4796-a088-382b084d9824",
   "metadata": {},
   "outputs": [
    {
     "data": {
      "text/plain": [
       "7"
      ]
     },
     "execution_count": 21,
     "metadata": {},
     "output_type": "execute_result"
    }
   ],
   "source": [
    "t1[-2][0]\n",
    "#to see the element 0 index of -2"
   ]
  }
 ],
 "metadata": {
  "kernelspec": {
   "display_name": "Python 3 (ipykernel)",
   "language": "python",
   "name": "python3"
  },
  "language_info": {
   "codemirror_mode": {
    "name": "ipython",
    "version": 3
   },
   "file_extension": ".py",
   "mimetype": "text/x-python",
   "name": "python",
   "nbconvert_exporter": "python",
   "pygments_lexer": "ipython3",
   "version": "3.13.7"
  }
 },
 "nbformat": 4,
 "nbformat_minor": 5
}
